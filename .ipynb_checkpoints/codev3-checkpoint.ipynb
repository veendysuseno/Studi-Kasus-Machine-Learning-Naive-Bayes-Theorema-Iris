{
 "cells": [
  {
   "cell_type": "markdown",
   "id": "da9a0b41",
   "metadata": {},
   "source": [
    "# 1. Memangggil Library"
   ]
  },
  {
   "cell_type": "code",
   "execution_count": 9,
   "id": "67ba9ebe",
   "metadata": {},
   "outputs": [],
   "source": [
    "#Memanggil Library\n",
    "from sklearn import datasets\n",
    "from sklearn.naive_bayes import GaussianNB\n",
    "#from sklearn.cross_validation import train_test_split   #Yang dikomen ini merupakan kode sklearn lama jangan dipakai lagi\n",
    "from sklearn.model_selection import train_test_split  # Menggunakan modul yang diperbarui\n",
    "from sklearn.metrics import accuracy_score, classification_report\n",
    "import pandas as pd"
   ]
  },
  {
   "cell_type": "markdown",
   "id": "e690142f",
   "metadata": {},
   "source": [
    "# 2. Memanggil dataset dari library sklearn."
   ]
  },
  {
   "cell_type": "code",
   "execution_count": 10,
   "id": "8eeceb53",
   "metadata": {},
   "outputs": [
    {
     "name": "stdout",
     "output_type": "stream",
     "text": [
      "   sepal length (cm)  sepal width (cm)  petal length (cm)  petal width (cm)\n",
      "0                5.1               3.5                1.4               0.2\n",
      "1                4.9               3.0                1.4               0.2\n",
      "2                4.7               3.2                1.3               0.2\n",
      "3                4.6               3.1                1.5               0.2\n",
      "4                5.0               3.6                1.4               0.2\n"
     ]
    }
   ],
   "source": [
    "# Memuat dataset (Load Dataset)\n",
    "bunga = datasets.load_iris()\n",
    "\n",
    "# Training dataset\n",
    "x = bunga.data\n",
    "# Target dataset\n",
    "y = bunga.target\n",
    "\n",
    "# Mencetak 5 data pertama dari dataframe\n",
    "df = pd.DataFrame (x, columns=bunga.feature_names)\n",
    "print(df.head())"
   ]
  },
  {
   "cell_type": "markdown",
   "id": "cf90cdb7",
   "metadata": {},
   "source": [
    "## -. Menampilkan Jumlah Baris dan kolom dari dataset. "
   ]
  },
  {
   "cell_type": "code",
   "execution_count": 11,
   "id": "5cc68614",
   "metadata": {},
   "outputs": [
    {
     "name": "stdout",
     "output_type": "stream",
     "text": [
      "(150, 4)\n"
     ]
    }
   ],
   "source": [
    "# Menampilkan jumlah baris dan kolom dari dataset\n",
    "print(bunga.data.shape)"
   ]
  },
  {
   "cell_type": "markdown",
   "id": "d3e37040",
   "metadata": {},
   "source": [
    "## -. Menampilkan target set dari data. "
   ]
  },
  {
   "cell_type": "code",
   "execution_count": 12,
   "id": "b6433311",
   "metadata": {},
   "outputs": [
    {
     "name": "stdout",
     "output_type": "stream",
     "text": [
      "['setosa' 'versicolor' 'virginica']\n"
     ]
    }
   ],
   "source": [
    "# Menampilkan target set dari data\n",
    "print(bunga.target_names)"
   ]
  },
  {
   "cell_type": "markdown",
   "id": "1cf66e8a",
   "metadata": {},
   "source": [
    "# 3. Memilah / Memisahkan Data Training dan Data Testing"
   ]
  },
  {
   "cell_type": "code",
   "execution_count": 13,
   "id": "9992ea62",
   "metadata": {},
   "outputs": [],
   "source": [
    "# Split trainn dan test data\n",
    "x_train, x_test, y_train, y_test = train_test_split(x,y)"
   ]
  },
  {
   "cell_type": "markdown",
   "id": "9ccf0a91",
   "metadata": {},
   "source": [
    "# 4. Memanggil Naive Bayes Classifier dari Sklearn dan kemudian melakuakan fiting model dengan data training serta target"
   ]
  },
  {
   "cell_type": "code",
   "execution_count": 14,
   "id": "3c0c1a62",
   "metadata": {},
   "outputs": [
    {
     "data": {
      "text/plain": [
       "GaussianNB()"
      ]
     },
     "execution_count": 14,
     "metadata": {},
     "output_type": "execute_result"
    }
   ],
   "source": [
    "# Mengaktifkan Gaussian Naive Bayes\n",
    "gnb =  GaussianNB()\n",
    "gnb.fit(bunga.data, bunga.target)"
   ]
  },
  {
   "cell_type": "markdown",
   "id": "7a47f32b",
   "metadata": {},
   "source": [
    "# 5. Melakukan Prediksi pada Data Training. "
   ]
  },
  {
   "cell_type": "code",
   "execution_count": 15,
   "id": "378d40ed",
   "metadata": {},
   "outputs": [
    {
     "data": {
      "text/plain": [
       "array([0, 0, 0, 0, 0, 0, 0, 0, 0, 0, 0, 0, 0, 0, 0, 0, 0, 0, 0, 0, 0, 0,\n",
       "       0, 0, 0, 0, 0, 0, 0, 0, 0, 0, 0, 0, 0, 0, 0, 0, 0, 0, 0, 0, 0, 0,\n",
       "       0, 0, 0, 0, 0, 0, 1, 1, 2, 1, 1, 1, 1, 1, 1, 1, 1, 1, 1, 1, 1, 1,\n",
       "       1, 1, 1, 1, 2, 1, 1, 1, 1, 1, 1, 2, 1, 1, 1, 1, 1, 1, 1, 1, 1, 1,\n",
       "       1, 1, 1, 1, 1, 1, 1, 1, 1, 1, 1, 1, 2, 2, 2, 2, 2, 2, 1, 2, 2, 2,\n",
       "       2, 2, 2, 2, 2, 2, 2, 2, 2, 1, 2, 2, 2, 2, 2, 2, 2, 2, 2, 2, 2, 2,\n",
       "       2, 1, 2, 2, 2, 2, 2, 2, 2, 2, 2, 2, 2, 2, 2, 2, 2, 2])"
      ]
     },
     "execution_count": 15,
     "metadata": {},
     "output_type": "execute_result"
    }
   ],
   "source": [
    "gnb.predict(bunga.data)"
   ]
  },
  {
   "cell_type": "markdown",
   "id": "b489a883",
   "metadata": {},
   "source": [
    "# 6. Melakukan Prediksi pada Data Input."
   ]
  },
  {
   "cell_type": "code",
   "execution_count": 17,
   "id": "b175a443",
   "metadata": {},
   "outputs": [
    {
     "name": "stdout",
     "output_type": "stream",
     "text": [
      "Hasil Prediksi : Jenis Bunga  [2]\n"
     ]
    }
   ],
   "source": [
    "# Data yang akan diprediksi\n",
    "Data = [[6.2, 1.5, 4.2, 2.6]]\n",
    "\n",
    "# Melakukan prediksi berdasarkan\n",
    "y_pred = gnb.predict(Data)\n",
    "\n",
    "# Mencetak hasil prediksi\n",
    "# Hasil 0 adalah Setosa\n",
    "# Hasil 1 adalah Versicolor\n",
    "# Hasil 2 adalah Virginica\n",
    "print(\"Hasil Prediksi : Jenis Bunga \", y_pred)\n"
   ]
  },
  {
   "cell_type": "markdown",
   "id": "d1cae4e4",
   "metadata": {},
   "source": [
    "#### Contoh diatas menunjukkan prediksi dari data bunga dengan input sebagai beriku :\n",
    "#### Panjang sepal : 6.2 cm.\n",
    "#### Lebar sepal : 1.5 cm.\n",
    "#### Panjang petal : 4.2 cm.\n",
    "#### Lebar sepal : 2.6 cm.\n",
    "#### Hasil Prediksi Menunjukkan bahwa jenis bunga dengan kondisi tersebut adalah [2] atau Versicolor."
   ]
  },
  {
   "cell_type": "markdown",
   "id": "d23cd44d",
   "metadata": {},
   "source": [
    "# 7. Menghitung Akurasi dari Model Prediksi "
   ]
  },
  {
   "cell_type": "code",
   "execution_count": 18,
   "id": "61540f57",
   "metadata": {},
   "outputs": [
    {
     "name": "stdout",
     "output_type": "stream",
     "text": [
      "Accuracy = 1.00\n",
      "              precision    recall  f1-score   support\n",
      "\n",
      "           0       1.00      1.00      1.00        15\n",
      "           1       1.00      1.00      1.00        15\n",
      "           2       1.00      1.00      1.00         8\n",
      "\n",
      "    accuracy                           1.00        38\n",
      "   macro avg       1.00      1.00      1.00        38\n",
      "weighted avg       1.00      1.00      1.00        38\n",
      "\n"
     ]
    }
   ],
   "source": [
    "# Melihat Skor Akurasi\n",
    "print(\"Accuracy = %0.2f\" % accuracy_score(y_test, gnb.predict(x_test)))\n",
    "\n",
    "# Mencetak Laporan Klasifikasi\n",
    "print(classification_report(y_test, gnb.predict(x_test)))\n",
    "\n"
   ]
  },
  {
   "cell_type": "markdown",
   "id": "c7671237",
   "metadata": {},
   "source": [
    "# Kesimpulan :\n",
    "## Dari Perhitungan akurasi di atas dapat dilihat bahwa skor akurasi model Dengan Naive Bayes ini adalah 0.95 atau 95%."
   ]
  }
 ],
 "metadata": {
  "kernelspec": {
   "display_name": "Python 3",
   "language": "python",
   "name": "python3"
  },
  "language_info": {
   "codemirror_mode": {
    "name": "ipython",
    "version": 3
   },
   "file_extension": ".py",
   "mimetype": "text/x-python",
   "name": "python",
   "nbconvert_exporter": "python",
   "pygments_lexer": "ipython3",
   "version": "3.8.8"
  }
 },
 "nbformat": 4,
 "nbformat_minor": 5
}
