{
 "cells": [
  {
   "cell_type": "markdown",
   "id": "a5f694d4",
   "metadata": {},
   "source": [
    "# Contoh Implementasi Naive Bayes Classifier di TensorFlow 2.x  "
   ]
  },
  {
   "cell_type": "code",
   "execution_count": 5,
   "id": "e9f866eb",
   "metadata": {},
   "outputs": [
    {
     "name": "stdout",
     "output_type": "stream",
     "text": [
      "Akurasi: 100.00%\n"
     ]
    }
   ],
   "source": [
    "from sklearn.naive_bayes import GaussianNB\n",
    "from sklearn.model_selection import train_test_split\n",
    "from sklearn.datasets import load_iris\n",
    "\n",
    "# Load data\n",
    "iris = load_iris()\n",
    "X, y = iris.data, iris.target\n",
    "\n",
    "# Split data\n",
    "X_train, X_test, y_train, y_test = train_test_split(X, y, test_size=0.2, random_state=42)\n",
    "\n",
    "# Inisialisasi model Naive Bayes\n",
    "model = GaussianNB()\n",
    "\n",
    "# Latih model\n",
    "model.fit(X_train, y_train)\n",
    "\n",
    "# Prediksi\n",
    "y_pred = model.predict(X_test)\n",
    "\n",
    "# Evaluasi\n",
    "accuracy = (y_pred == y_test).mean()\n",
    "print(f'Akurasi: {accuracy * 100:.2f}%')\n"
   ]
  },
  {
   "cell_type": "markdown",
   "id": "e7b3a6be",
   "metadata": {},
   "source": [
    "# Implementasikan Naive Bayes dengan TensorFlow"
   ]
  },
  {
   "cell_type": "code",
   "execution_count": 2,
   "id": "394e6b39",
   "metadata": {},
   "outputs": [
    {
     "ename": "ModuleNotFoundError",
     "evalue": "No module named 'tf'",
     "output_type": "error",
     "traceback": [
      "\u001b[1;31m---------------------------------------------------------------------------\u001b[0m",
      "\u001b[1;31mModuleNotFoundError\u001b[0m                       Traceback (most recent call last)",
      "\u001b[1;32m<ipython-input-2-ef92476f041c>\u001b[0m in \u001b[0;36m<module>\u001b[1;34m\u001b[0m\n\u001b[0;32m      1\u001b[0m \u001b[1;32mimport\u001b[0m \u001b[0mnumpy\u001b[0m \u001b[1;32mas\u001b[0m \u001b[0mnp\u001b[0m\u001b[1;33m\u001b[0m\u001b[1;33m\u001b[0m\u001b[0m\n\u001b[1;32m----> 2\u001b[1;33m \u001b[1;32mimport\u001b[0m \u001b[0mtf\u001b[0m\u001b[1;33m\u001b[0m\u001b[1;33m\u001b[0m\u001b[0m\n\u001b[0m\u001b[0;32m      3\u001b[0m \u001b[1;32mfrom\u001b[0m \u001b[0msklearn\u001b[0m\u001b[1;33m.\u001b[0m\u001b[0mdatasets\u001b[0m \u001b[1;32mimport\u001b[0m \u001b[0mload_iris\u001b[0m\u001b[1;33m\u001b[0m\u001b[1;33m\u001b[0m\u001b[0m\n\u001b[0;32m      4\u001b[0m \u001b[1;32mfrom\u001b[0m \u001b[0msklearn\u001b[0m\u001b[1;33m.\u001b[0m\u001b[0mmodel_selection\u001b[0m \u001b[1;32mimport\u001b[0m \u001b[0mtrain_test_split\u001b[0m\u001b[1;33m\u001b[0m\u001b[1;33m\u001b[0m\u001b[0m\n\u001b[0;32m      5\u001b[0m \u001b[1;32mfrom\u001b[0m \u001b[0msklearn\u001b[0m\u001b[1;33m.\u001b[0m\u001b[0mpreprocessing\u001b[0m \u001b[1;32mimport\u001b[0m \u001b[0mLabelBinarizer\u001b[0m\u001b[1;33m\u001b[0m\u001b[1;33m\u001b[0m\u001b[0m\n",
      "\u001b[1;31mModuleNotFoundError\u001b[0m: No module named 'tf'"
     ]
    }
   ],
   "source": [
    "import numpy as np\n",
    "import tensorflow as tf\n",
    "from sklearn.datasets import load_iris\n",
    "from sklearn.model_selection import train_test_split\n",
    "from sklearn.preprocessing import LabelBinarizer\n",
    "\n",
    "# Load dataset\n",
    "iris = load_iris()\n",
    "X, y = iris.data, iris.target\n",
    "\n",
    "# Split data into train and test sets\n",
    "X_train, X_test, y_train, y_test = train_test_split(X, y, test_size=0.2, random_state=42)\n",
    "\n",
    "# Number of classes and features\n",
    "n_classes = len(np.unique(y))\n",
    "n_features = X.shape[1]\n",
    "\n",
    "# Convert labels to one-hot encoding\n",
    "lb = LabelBinarizer()\n",
    "y_train_onehot = lb.fit_transform(y_train)\n",
    "\n",
    "# TensorFlow Variables for means, variances, and priors\n",
    "means = tf.Variable(tf.zeros([n_classes, n_features]), dtype=tf.float32)\n",
    "variances = tf.Variable(tf.zeros([n_classes, n_features]), dtype=tf.float32)\n",
    "priors = tf.Variable(tf.zeros([n_classes]), dtype=tf.float32)\n",
    "\n",
    "# Function to compute Gaussian likelihood\n",
    "def gaussian_likelihood(x, mean, var):\n",
    "    eps = 1e-6  # small value to prevent division by zero\n",
    "    coeff = 1.0 / tf.sqrt(2.0 * np.pi * var + eps)\n",
    "    exponent = tf.exp(-tf.square(x - mean) / (2.0 * var + eps))\n",
    "    return coeff * exponent\n",
    "\n",
    "# Training phase: Calculate mean, variance, and priors\n",
    "def train_naive_bayes(X_train, y_train):\n",
    "    for i in range(n_classes):\n",
    "        X_class = X_train[y_train == i]\n",
    "        means[i].assign(tf.reduce_mean(X_class, axis=0))\n",
    "        variances[i].assign(tf.math.reduce_variance(X_class, axis=0))\n",
    "        priors[i].assign(tf.math.log(float(X_class.shape[0]) / float(X_train.shape[0])))\n",
    "\n",
    "# Prediction phase: Calculate posterior probabilities\n",
    "def predict(X):\n",
    "    posteriors = []\n",
    "    for i in range(n_classes):\n",
    "        prior = priors[i]\n",
    "        likelihood = gaussian_likelihood(X, means[i], variances[i])\n",
    "        log_likelihood = tf.reduce_sum(tf.math.log(likelihood), axis=1)\n",
    "        posterior = prior + log_likelihood\n",
    "        posteriors.append(posterior)\n",
    "    \n",
    "    posteriors = tf.stack(posteriors, axis=1)\n",
    "    return tf.argmax(posteriors, axis=1)\n",
    "\n",
    "# Train the model\n",
    "train_naive_bayes(X_train, y_train)\n",
    "\n",
    "# Predict on the test set\n",
    "y_pred = predict(X_test)\n",
    "\n",
    "# Evaluate accuracy\n",
    "accuracy = tf.reduce_mean(tf.cast(tf.equal(y_pred, y_test), tf.float32))\n",
    "print(f'Akurasi: {accuracy.numpy() * 100:.2f}%')\n"
   ]
  }
 ],
 "metadata": {
  "kernelspec": {
   "display_name": "Python 3",
   "language": "python",
   "name": "python3"
  },
  "language_info": {
   "codemirror_mode": {
    "name": "ipython",
    "version": 3
   },
   "file_extension": ".py",
   "mimetype": "text/x-python",
   "name": "python",
   "nbconvert_exporter": "python",
   "pygments_lexer": "ipython3",
   "version": "3.8.8"
  }
 },
 "nbformat": 4,
 "nbformat_minor": 5
}
